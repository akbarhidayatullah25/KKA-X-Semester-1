{
  "nbformat": 4,
  "nbformat_minor": 0,
  "metadata": {
    "colab": {
      "provenance": [],
      "authorship_tag": "ABX9TyOSEYo5z1FAdVNW6RIp3sKm",
      "include_colab_link": true
    },
    "kernelspec": {
      "name": "python3",
      "display_name": "Python 3"
    },
    "language_info": {
      "name": "python"
    }
  },
  "cells": [
    {
      "cell_type": "markdown",
      "metadata": {
        "id": "view-in-github",
        "colab_type": "text"
      },
      "source": [
        "<a href=\"https://colab.research.google.com/github/akbarhidayatullah25/KKA-X-Semester-1/blob/main/1_Fungsi_print_Muhammad_akbar.ipynb\" target=\"_parent\"><img src=\"https://colab.research.google.com/assets/colab-badge.svg\" alt=\"Open In Colab\"/></a>"
      ]
    },
    {
      "cell_type": "markdown",
      "source": [
        "Nama: Muhammad Akbar Hidayatullah\n",
        "\n",
        "Kelas: X.8\n",
        "\n",
        "No absen: 21"
      ],
      "metadata": {
        "id": "7lo44EzUfCxJ"
      }
    },
    {
      "cell_type": "markdown",
      "source": [
        "#Menampilkan Teks Bebas"
      ],
      "metadata": {
        "id": "9DDrNhZYgC4S"
      }
    },
    {
      "cell_type": "code",
      "source": [
        "print(\"Helo world!\")"
      ],
      "metadata": {
        "colab": {
          "base_uri": "https://localhost:8080/"
        },
        "id": "f7DHHDqqgCdg",
        "outputId": "8a4bc768-b73e-420f-e61f-0c64c7f7cda5"
      },
      "execution_count": null,
      "outputs": [
        {
          "output_type": "stream",
          "name": "stdout",
          "text": [
            "Helo world!\n"
          ]
        }
      ]
    },
    {
      "cell_type": "code",
      "source": [
        "print(\"Muhammad Akbar Hidayatullah\")"
      ],
      "metadata": {
        "colab": {
          "base_uri": "https://localhost:8080/"
        },
        "id": "OXyxMxSrhtSM",
        "outputId": "43f8b44a-8bd1-45da-f4dc-8d817bac0c65"
      },
      "execution_count": null,
      "outputs": [
        {
          "output_type": "stream",
          "name": "stdout",
          "text": [
            "Muhammad Akbar Hidayatullah\n"
          ]
        }
      ]
    },
    {
      "cell_type": "markdown",
      "source": [
        "#Menampilkan Nilai Variabel"
      ],
      "metadata": {
        "id": "VXKiFZugiFoh"
      }
    },
    {
      "cell_type": "code",
      "source": [
        "usia = 14\n",
        "\n",
        "print(usia)"
      ],
      "metadata": {
        "colab": {
          "base_uri": "https://localhost:8080/"
        },
        "id": "q2yBoHMwiVCp",
        "outputId": "f15e0232-016e-4852-811e-e8c8c7033dce"
      },
      "execution_count": null,
      "outputs": [
        {
          "output_type": "stream",
          "name": "stdout",
          "text": [
            "14\n"
          ]
        }
      ]
    },
    {
      "cell_type": "code",
      "source": [
        "Nama = \"Muhammad Akbar Hidayatullah\"\n",
        "\n",
        "print(Nama)"
      ],
      "metadata": {
        "colab": {
          "base_uri": "https://localhost:8080/"
        },
        "id": "SGOOMiTfjLpn",
        "outputId": "3199d3f2-41eb-4825-fd2e-c85995042212"
      },
      "execution_count": null,
      "outputs": [
        {
          "output_type": "stream",
          "name": "stdout",
          "text": [
            "Muhammad Akbar Hidayatullah\n"
          ]
        }
      ]
    },
    {
      "cell_type": "code",
      "source": [
        "BB = 53\n",
        "\n",
        "print(BB)"
      ],
      "metadata": {
        "colab": {
          "base_uri": "https://localhost:8080/"
        },
        "id": "ooorefV7kAp-",
        "outputId": "37f43d45-19bc-4db7-f9fd-022bc971cf44"
      },
      "execution_count": null,
      "outputs": [
        {
          "output_type": "stream",
          "name": "stdout",
          "text": [
            "53\n"
          ]
        }
      ]
    },
    {
      "cell_type": "markdown",
      "source": [
        "#Menampilkan Teks Bebas Dan Nilai Variabel"
      ],
      "metadata": {
        "id": "TUuSL7K2lJE6"
      }
    },
    {
      "cell_type": "code",
      "source": [
        "print(f\"perkenalan nama saya {Nama}.\")"
      ],
      "metadata": {
        "colab": {
          "base_uri": "https://localhost:8080/"
        },
        "id": "0VwX3X8QlVk3",
        "outputId": "c1eeac62-1bae-4daf-a96c-b65ed7162f77"
      },
      "execution_count": null,
      "outputs": [
        {
          "output_type": "stream",
          "name": "stdout",
          "text": [
            "perkenalan nama saya Muhammad Akbar Hidayatullah.\n"
          ]
        }
      ]
    },
    {
      "cell_type": "code",
      "source": [
        "print(f\"Berat Badan Saya{BB}KG.\")"
      ],
      "metadata": {
        "colab": {
          "base_uri": "https://localhost:8080/"
        },
        "id": "oecRc3Vsl7wD",
        "outputId": "56ab4f9f-f36d-4bb0-dc3d-74bcff8f576f"
      },
      "execution_count": null,
      "outputs": [
        {
          "output_type": "stream",
          "name": "stdout",
          "text": [
            "Berat Badan Saya53KG.\n"
          ]
        }
      ]
    },
    {
      "cell_type": "code",
      "source": [
        "print(f\"Perkenalan nama saya \" + Nama)"
      ],
      "metadata": {
        "colab": {
          "base_uri": "https://localhost:8080/"
        },
        "id": "AjesSC3wnA7P",
        "outputId": "0218e7fb-4e15-43f2-91fc-4a6f3c5e4ff2"
      },
      "execution_count": null,
      "outputs": [
        {
          "output_type": "stream",
          "name": "stdout",
          "text": [
            "Perkenalan nama saya Muhammad Akbar Hidayatullah\n"
          ]
        }
      ]
    },
    {
      "cell_type": "code",
      "source": [
        "print(f\"Berat Badan Saya\" + str (BB) + \"kg.\")"
      ],
      "metadata": {
        "colab": {
          "base_uri": "https://localhost:8080/"
        },
        "id": "bK-1-u4Rnai1",
        "outputId": "a9b1b706-42d5-4687-e24a-9d297e3507df"
      },
      "execution_count": null,
      "outputs": [
        {
          "output_type": "stream",
          "name": "stdout",
          "text": [
            "Berat Badan Saya53kg.\n"
          ]
        }
      ]
    },
    {
      "cell_type": "code",
      "source": [
        "print(f\"Berat Badan Saya {BB} KG.\")"
      ],
      "metadata": {
        "colab": {
          "base_uri": "https://localhost:8080/"
        },
        "id": "FXsVzTjaoa6q",
        "outputId": "54b4f965-64b3-4946-dd52-044c827b0ac8"
      },
      "execution_count": null,
      "outputs": [
        {
          "output_type": "stream",
          "name": "stdout",
          "text": [
            "Berat Badan Saya 53 KG.\n"
          ]
        }
      ]
    },
    {
      "cell_type": "markdown",
      "source": [
        "#Escape Character"
      ],
      "metadata": {
        "id": "hEBXkeZJrHNl"
      }
    },
    {
      "cell_type": "code",
      "source": [
        "print (\"Nama: Muhammad Akbar Hidayatullah\\nKelas: X.8\\nNo Absen: 21 \")"
      ],
      "metadata": {
        "colab": {
          "base_uri": "https://localhost:8080/"
        },
        "id": "yjpzEEP3rVfN",
        "outputId": "6d15258c-fc1d-43ff-959c-540c579f3d7e"
      },
      "execution_count": 1,
      "outputs": [
        {
          "output_type": "stream",
          "name": "stdout",
          "text": [
            "Nama: Muhammad Akbar Hidayatullah\n",
            "Kelas: X.8\n",
            "No Absen: 21 \n"
          ]
        }
      ]
    },
    {
      "cell_type": "code",
      "source": [
        "\n",
        "print(\"\"\"Nama\\t\\t: Muhammad Akbar Hidayatullah\n",
        "Kelas\\t\\t: X.8\n",
        "No Absen\\t: 21\"\"\")"
      ],
      "metadata": {
        "colab": {
          "base_uri": "https://localhost:8080/"
        },
        "id": "eu4L3c7HsDZk",
        "outputId": "fbb0cd5f-3411-46ae-8076-6fed81cfd662"
      },
      "execution_count": 2,
      "outputs": [
        {
          "output_type": "stream",
          "name": "stdout",
          "text": [
            "Nama\t\t: Muhammad Akbar Hidayatullah \n",
            "Kelas\t\t: X.8\n",
            "No Absen\t: 21\n"
          ]
        }
      ]
    },
    {
      "cell_type": "code",
      "source": [
        "print(\"Nama: Ja'far shadiq\\nKelas: X.8\\nNo Absen: 29\")"
      ],
      "metadata": {
        "colab": {
          "base_uri": "https://localhost:8080/"
        },
        "id": "1wj9dKlUsOkB",
        "outputId": "91374096-0189-4ea5-8607-b188f2540377"
      },
      "execution_count": 3,
      "outputs": [
        {
          "output_type": "stream",
          "name": "stdout",
          "text": [
            "Nama: Ja'far shadiq\n",
            "Kelas: X.8\n",
            "No Absen: 29\n"
          ]
        }
      ]
    },
    {
      "cell_type": "code",
      "source": [
        "print(\"Lokasi File Tugas KKA: Local Disk C: \\\\KKA\\\\Tugas Akbar\")"
      ],
      "metadata": {
        "colab": {
          "base_uri": "https://localhost:8080/"
        },
        "id": "Ovm9ceFmsUI0",
        "outputId": "dcf5b09e-794d-4b0b-99ef-777eead7358b"
      },
      "execution_count": 4,
      "outputs": [
        {
          "output_type": "stream",
          "name": "stdout",
          "text": [
            "Lokasi File Tugas KKA: Local Disk C: \\KKA\\Tugas Akbar\n"
          ]
        }
      ]
    },
    {
      "cell_type": "markdown",
      "source": [
        "#Parameter Fungsi Print ()"
      ],
      "metadata": {
        "id": "VXr5fQWisbds"
      }
    },
    {
      "cell_type": "code",
      "source": [
        "\n",
        "Tahun = 2025\n",
        "Bulan = \"Agustus\"\n",
        "Tanggal = 23\n",
        "\n",
        "print(Tahun, Bulan, Tanggal, sep=\"-\")"
      ],
      "metadata": {
        "colab": {
          "base_uri": "https://localhost:8080/"
        },
        "id": "Gc3lwvrIsglS",
        "outputId": "7872150a-2b92-4d01-bc55-9f20009c43a3"
      },
      "execution_count": 5,
      "outputs": [
        {
          "output_type": "stream",
          "name": "stdout",
          "text": [
            "2025-Agustus-23\n"
          ]
        }
      ]
    },
    {
      "cell_type": "code",
      "source": [
        "nama_depan = \"Akbar\"\n",
        "nama_belakang = \"Muhammad Akbar Hidayatullah\"\n",
        "\n",
        "print(nama_depan, end=\" \")\n",
        "print(nama_belakang)"
      ],
      "metadata": {
        "colab": {
          "base_uri": "https://localhost:8080/"
        },
        "id": "qa-wWVogsu9c",
        "outputId": "e6c80787-30ee-4341-ae1a-62c083a9199a"
      },
      "execution_count": 6,
      "outputs": [
        {
          "output_type": "stream",
          "name": "stdout",
          "text": [
            "Akbar Muhammad Akbar Hidayatullah\n"
          ]
        }
      ]
    },
    {
      "cell_type": "code",
      "source": [
        "nama_siswa_1 = \"Dinda\"\n",
        "nama_siswa_2 = \"Aurin\"\n",
        "nama_siswa_3 = \"Lisaan\"\n",
        "print(nama_siswa_3, nama_siswa_2, nama_siswa_3, nama_siswa_1, sep='/')"
      ],
      "metadata": {
        "colab": {
          "base_uri": "https://localhost:8080/"
        },
        "id": "7oJVJx9fswFi",
        "outputId": "a72c800b-1ca6-47f1-fed6-6f804ae283d4"
      },
      "execution_count": 7,
      "outputs": [
        {
          "output_type": "stream",
          "name": "stdout",
          "text": [
            "Lisaan/Aurin/Lisaan/Dinda\n"
          ]
        }
      ]
    },
    {
      "cell_type": "code",
      "source": [
        "nama_siswa_4 = \"Azkal\"\n",
        "nama_siswa_5 = \"Hasim\"\n",
        "nama_siswa_6 = \"Chilmi\"\n",
        "nama_siswa_7 = \"Nova\"\n",
        "\n",
        "print(nama_siswa_6, end=\"~\")\n",
        "print(nama_siswa_4)\n",
        "print(nama_siswa_5, end=\"-\")\n",
        "print(nama_siswa_7)\n",
        "print(nama_siswa_4, end=\"/\")\n",
        "print(nama_siswa_7, end=\"&\")\n",
        "print(nama_siswa_5)"
      ],
      "metadata": {
        "colab": {
          "base_uri": "https://localhost:8080/"
        },
        "id": "hR8LsLmns6Pb",
        "outputId": "c55729fa-918b-48c3-84ad-49b8f397cd88"
      },
      "execution_count": 8,
      "outputs": [
        {
          "output_type": "stream",
          "name": "stdout",
          "text": [
            "Chilmi~Azkal\n",
            "Hasim-Nova\n",
            "Azkal/Nova&Hasim\n"
          ]
        }
      ]
    }
  ]
}